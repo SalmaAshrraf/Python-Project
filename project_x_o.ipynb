{
  "nbformat": 4,
  "nbformat_minor": 0,
  "metadata": {
    "colab": {
      "name": "project x-o.ipynb",
      "provenance": [],
      "toc_visible": true
    },
    "kernelspec": {
      "name": "python3",
      "display_name": "Python 3"
    },
    "language_info": {
      "name": "python"
    }
  },
  "cells": [
    {
      "cell_type": "code",
      "metadata": {
        "id": "kuIt-UZjses1"
      },
      "source": [
        "import random"
      ],
      "execution_count": 1,
      "outputs": []
    },
    {
      "cell_type": "code",
      "metadata": {
        "id": "Zy8vbuDvtAqk"
      },
      "source": [
        "def printboard (board):\n",
        "    print(' ' + board[0] +' | '+board[1] + ' | ' + board[2])\n",
        "    print('---+---+---')\n",
        "    print(' ' + board[3] +' | '+board[4] + ' | ' + board[5])\n",
        "    print('---+---+---')\n",
        "    print(' ' + board[6] +' | '+board[7] + ' | ' + board[8])\n",
        "    \n",
        "def inputplayerletter():\n",
        "    letter = ''\n",
        "    while not (letter == 'X' or letter == 'O'):\n",
        "        print('do you want X or O ?')\n",
        "        letter = input().upper()\n",
        "    if letter == 'X' or letter == 'x':\n",
        "        return ['X','O']\n",
        "    return ['O','X']"
      ],
      "execution_count": 2,
      "outputs": []
    },
    {
      "cell_type": "code",
      "metadata": {
        "id": "F8m_XaTitE6M"
      },
      "source": [
        "def howplayfirst():\n",
        "    if random.randint(0,1)==0:\n",
        "        return 'player2'\n",
        "    return 'player1'\n",
        "def playagin():\n",
        "    print('do you want to play agin? (yes or not)')\n",
        "    return input().upper().startswith('y') or input().upper().startswith('Y')\n",
        "    \n",
        "def makemove(board,letter,move):\n",
        "    board[move-1]=letter\n",
        "    \n",
        "def iswinner(bo,le):\n",
        "    return ((bo[0]==le and bo[1]==le and bo[2]==le) or\n",
        "        (bo[0]==le and bo[3]==le and bo[6]==le)or\n",
        "        (bo[1]==le and bo[4]==le and bo[7]==le)or\n",
        "        (bo[2]==le and bo[5]==le and bo[8]==le)or\n",
        "        (bo[0]==le and bo[4]==le and bo[8]==le)or\n",
        "        (bo[2]==le and bo[4]==le and bo[6]==le))\n",
        "def spacefree(board,move):\n",
        "    return board[move-1] == ' '"
      ],
      "execution_count": 3,
      "outputs": []
    },
    {
      "cell_type": "code",
      "metadata": {
        "colab": {
          "base_uri": "https://localhost:8080/"
        },
        "id": "TaiCP6AqtHlZ",
        "outputId": "22b48504-bc91-420e-e2c3-79c2453a2d30"
      },
      "source": [
        "def getplayermove(board,player):\n",
        "    move=0\n",
        "    while move not in range(1,9):\n",
        "        print(f'what is the next move {player}?(1,9)')\n",
        "        move =int(input())\n",
        "    return move\n",
        "def boardfull(board):\n",
        "    return not any([x == ' ' for x in board])\n",
        "\n",
        "print('welcome to \"X\" and \"O\" game')"
      ],
      "execution_count": 4,
      "outputs": [
        {
          "output_type": "stream",
          "name": "stdout",
          "text": [
            "welcome to \"X\" and \"O\" game\n"
          ]
        }
      ]
    },
    {
      "cell_type": "code",
      "metadata": {
        "id": "C69vaDQGtKlR"
      },
      "source": [
        "def humgame():\n",
        "    while True:\n",
        "        theboard = [' '] * 9\n",
        "        player1letter,player2letter = inputplayerletter()\n",
        "        turn = howplayfirst()\n",
        "        print('the '+turn+'will go first')\n",
        "        gameisplaying = True\n",
        "\n",
        "        while gameisplaying:\n",
        "            if turn =='player1':\n",
        "                letter = player1letter\n",
        "            else:\n",
        "                letter = player2letter\n",
        "            printboard(theboard)\n",
        "            move = getplayermove(theboard,turn)\n",
        "            makemove(theboard,letter,move)\n",
        "            if iswinner(theboard,letter):\n",
        "                printboard(theboard)\n",
        "                print(\"you win the game\")\n",
        "                gameisplaying = False\n",
        "            elif boardfull(theboard):\n",
        "                printboard(theboard)\n",
        "                print(\"the game is tie\")\n",
        "                gameisplaying = False\n",
        "            if turn =='player1':\n",
        "                turn ='player2'\n",
        "            else:\n",
        "                turn = 'player1'\n",
        "        if not playagin():\n",
        "            print(\"goodbye\")\n",
        "            break"
      ],
      "execution_count": 5,
      "outputs": []
    },
    {
      "cell_type": "code",
      "metadata": {
        "id": "67qY2Kh_tNj9"
      },
      "source": [
        "def whoGoesFirst():\n",
        "    if random.randint(0, 1) == 0:\n",
        "        return 'computer'\n",
        "    else:\n",
        "        return 'player'\n",
        "def getBoardCopy(board):\n",
        "    dupeBoard = []\n",
        "    for i in board:\n",
        "        dupeBoard.append(i)\n",
        "    return dupeBoard"
      ],
      "execution_count": 6,
      "outputs": []
    },
    {
      "cell_type": "code",
      "metadata": {
        "colab": {
          "base_uri": "https://localhost:8080/"
        },
        "id": "I-ebe2A-tQB7",
        "outputId": "e81df454-885a-498e-e6c2-4952615b7d04"
      },
      "source": [
        "def isSpaceFree(board, move):\n",
        "    return board[move] == ' '\n",
        "\n",
        "def getPlayerMove(board):\n",
        "    move = ''\n",
        "    while move not in '1 2 3 4 5 6 7 8 9'.split() or not isSpaceFree(board, int(move)):\n",
        "        print('What is your next move? (1-9)')\n",
        "        move = input()\n",
        "    return int(move)\n",
        "\n",
        "def chooseRandomMoveFromList(board, movesList):\n",
        "    possibleMoves = []\n",
        "    for i in movesList:\n",
        "        if isSpaceFree(board, i):\n",
        "            possibleMoves.append(i)\n",
        "        if len(possibleMoves) != 0:\n",
        "            return random.choice(possibleMoves)\n",
        "        else:\n",
        "            return None\n",
        "        \n",
        "def getComputerMove(board, computerLetter):\n",
        "    if computerLetter == 'X':\n",
        "        playerLetter = 'O'\n",
        "    else:\n",
        "        playerLetter = 'X'\n",
        "        \n",
        "    for i in range(1, 10):\n",
        "        copy = getBoardCopy(board)\n",
        "        if isSpaceFree(copy, i):\n",
        "            makemove(copy, computerLetter, i)\n",
        "            if iswinner(copy, computerLetter):\n",
        "                return i\n",
        "     \n",
        "    for i in range(1, 10):\n",
        "        copy = getBoardCopy(board)\n",
        "        if isSpaceFree(copy, i):\n",
        "            makemove(copy, playerLetter, i)\n",
        "            if iswinner(copy, playerLetter):\n",
        "                return i\n",
        "     \n",
        "    move = chooseRandomMoveFromList(board, [1, 3, 7, 9])\n",
        "    if move != None:\n",
        "        return move\n",
        "     \n",
        "    if isSpaceFree(board, 5):\n",
        "        return 5\n",
        "    return chooseRandomMoveFromList(board, [2, 4, 6, 8])\n",
        "\n",
        "def isBoardFull(board):\n",
        "    for i in range(1, 10):\n",
        "        if isSpaceFree(board, i):\n",
        "            return False\n",
        "    return True\n",
        "    \n",
        "print('Welcome to Tic Tac Toe!')"
      ],
      "execution_count": 7,
      "outputs": [
        {
          "output_type": "stream",
          "name": "stdout",
          "text": [
            "Welcome to Tic Tac Toe!\n"
          ]
        }
      ]
    },
    {
      "cell_type": "code",
      "metadata": {
        "id": "hfAnJkartThV"
      },
      "source": [
        "def comgame():\n",
        "    while True:\n",
        "        theBoard = [' '] * 10\n",
        "        playerLetter, computerLetter = inputplayerletter()\n",
        "        turn = whoGoesFirst()\n",
        "        print('The ' + turn + ' will go first.')\n",
        "        gameIsPlaying = True\n",
        "\n",
        "        while gameIsPlaying:\n",
        "            if turn == 'player':    \n",
        "                printboard(theBoard)\n",
        "                move = getPlayerMove(theBoard)\n",
        "                makemove(theBoard, playerLetter, move)\n",
        "\n",
        "                if iswinner(theBoard, playerLetter):\n",
        "                    printboard(theBoard)\n",
        "                    print('Hooray! You have won the game!')\n",
        "                    gameIsPlaying = False\n",
        "                else:\n",
        "                    if isBoardFull(theBoard):\n",
        "                        printboard(theBoard)\n",
        "                        print('The game is a tie!')\n",
        "                        break\n",
        "                    else:\n",
        "                        turn = 'computer'\n",
        "            else:\n",
        "                move = getComputerMove(theBoard, computerLetter)\n",
        "                makemove(theBoard, computerLetter, move)\n",
        "                \n",
        "                if iswinner(theBoard, computerLetter):\n",
        "                    printboard(theBoard)\n",
        "                    print('The computer has beaten you! You lose.')\n",
        "                    gameIsPlaying = False\n",
        "                else:\n",
        "                    if isBoardFull(theBoard):\n",
        "                        printboard(theBoard)\n",
        "                        print('The game is a tie!')\n",
        "                        break\n",
        "                    else:\n",
        "                        turn = 'player'\n",
        "        if not playagin():\n",
        "            break"
      ],
      "execution_count": 8,
      "outputs": []
    },
    {
      "cell_type": "code",
      "metadata": {
        "colab": {
          "base_uri": "https://localhost:8080/"
        },
        "id": "zarN1iFstWXF",
        "outputId": "eca5875b-c3be-4a6a-aef6-ccd7f9d1e1d0"
      },
      "source": [
        "print('Choose Game Mode')\n",
        "print('  1.human vs human')\n",
        "print('  2.human vs computer')\n",
        "print('  3.human vs smart computer')\n",
        "print('  4.computer vs computer')\n",
        "mode = int(input(''))\n",
        "if mode == 1:\n",
        "    humgame()\n",
        "elif mode == 2:\n",
        "    comgame()"
      ],
      "execution_count": null,
      "outputs": [
        {
          "output_type": "stream",
          "name": "stdout",
          "text": [
            "Choose Game Mode\n",
            "  1.human vs human\n",
            "  2.human vs computer\n",
            "  3.human vs smart computer\n",
            "  4.computer vs computer\n"
          ]
        }
      ]
    }
  ]
}